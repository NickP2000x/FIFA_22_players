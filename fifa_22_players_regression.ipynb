{
 "cells": [
  {
   "cell_type": "code",
   "execution_count": 127,
   "metadata": {},
   "outputs": [],
   "source": [
    "import numpy as np\n",
    "import pandas as pd\n",
    "import matplotlib.pyplot as plt\n",
    "\n",
    "from sklearn.model_selection import train_test_split\n",
    "from sklearn.model_selection import GridSearchCV\n",
    "\n",
    "from sklearn.ensemble import GradientBoostingRegressor\n",
    "\n",
    "from sklearn.preprocessing import StandardScaler\n",
    "\n",
    "from sklearn.linear_model import LinearRegression\n",
    "from sklearn.linear_model import ElasticNet\n",
    "from sklearn.linear_model import Lasso\n",
    "\n",
    "from sklearn.feature_selection import RFE\n",
    "from sklearn.ensemble import RandomForestRegressor\n",
    "\n",
    "from sklearn.metrics import mean_squared_error, r2_score\n",
    "\n",
    "from sklearn.svm import SVR"
   ]
  },
  {
   "cell_type": "code",
   "execution_count": 65,
   "metadata": {},
   "outputs": [],
   "source": [
    "dat = pd.read_csv(\"fifa_22_fut_players_cleaned.csv\", index_col=0)"
   ]
  },
  {
   "cell_type": "code",
   "execution_count": 66,
   "metadata": {},
   "outputs": [
    {
     "name": "stdout",
     "output_type": "stream",
     "text": [
      "<class 'pandas.core.frame.DataFrame'>\n",
      "Int64Index: 12697 entries, 0 to 17077\n",
      "Data columns (total 23 columns):\n",
      " #   Column      Non-Null Count  Dtype  \n",
      "---  ------      --------------  -----  \n",
      " 0   Name        12697 non-null  object \n",
      " 1   Ratings     12697 non-null  int64  \n",
      " 2   Position    12697 non-null  object \n",
      " 3   Version     12697 non-null  object \n",
      " 4   PS          12697 non-null  float64\n",
      " 5   SKI         12697 non-null  int64  \n",
      " 6   WF          12697 non-null  int64  \n",
      " 7   WR          12697 non-null  object \n",
      " 8   PAC         12697 non-null  int64  \n",
      " 9   SHO         12697 non-null  int64  \n",
      " 10  PAS         12697 non-null  int64  \n",
      " 11  DRI         12697 non-null  int64  \n",
      " 12  DEF         12697 non-null  int64  \n",
      " 13  PHY         12697 non-null  int64  \n",
      " 14  Popularity  12697 non-null  int64  \n",
      " 15  BS          12697 non-null  int64  \n",
      " 16  IGS         12697 non-null  int64  \n",
      " 17  Club        12697 non-null  object \n",
      " 18  League      12697 non-null  object \n",
      " 19  Country     12697 non-null  object \n",
      " 20  Height(cm)  12697 non-null  int64  \n",
      " 21  Weight(kg)  12697 non-null  int64  \n",
      " 22  Body Type   12697 non-null  object \n",
      "dtypes: float64(1), int64(14), object(8)\n",
      "memory usage: 2.3+ MB\n"
     ]
    }
   ],
   "source": [
    "dat.info()"
   ]
  },
  {
   "cell_type": "code",
   "execution_count": 67,
   "metadata": {},
   "outputs": [
    {
     "data": {
      "text/html": [
       "<div>\n",
       "<style scoped>\n",
       "    .dataframe tbody tr th:only-of-type {\n",
       "        vertical-align: middle;\n",
       "    }\n",
       "\n",
       "    .dataframe tbody tr th {\n",
       "        vertical-align: top;\n",
       "    }\n",
       "\n",
       "    .dataframe thead th {\n",
       "        text-align: right;\n",
       "    }\n",
       "</style>\n",
       "<table border=\"1\" class=\"dataframe\">\n",
       "  <thead>\n",
       "    <tr style=\"text-align: right;\">\n",
       "      <th></th>\n",
       "      <th>Name</th>\n",
       "      <th>Ratings</th>\n",
       "      <th>Position</th>\n",
       "      <th>Version</th>\n",
       "      <th>PS</th>\n",
       "      <th>SKI</th>\n",
       "      <th>WF</th>\n",
       "      <th>WR</th>\n",
       "      <th>PAC</th>\n",
       "      <th>SHO</th>\n",
       "      <th>...</th>\n",
       "      <th>PHY</th>\n",
       "      <th>Popularity</th>\n",
       "      <th>BS</th>\n",
       "      <th>IGS</th>\n",
       "      <th>Club</th>\n",
       "      <th>League</th>\n",
       "      <th>Country</th>\n",
       "      <th>Height(cm)</th>\n",
       "      <th>Weight(kg)</th>\n",
       "      <th>Body Type</th>\n",
       "    </tr>\n",
       "  </thead>\n",
       "  <tbody>\n",
       "    <tr>\n",
       "      <th>0</th>\n",
       "      <td>Pelé</td>\n",
       "      <td>99</td>\n",
       "      <td>CAM</td>\n",
       "      <td>Icon Moments</td>\n",
       "      <td>3800000.0</td>\n",
       "      <td>5</td>\n",
       "      <td>4</td>\n",
       "      <td>H \\ M</td>\n",
       "      <td>96</td>\n",
       "      <td>97</td>\n",
       "      <td>...</td>\n",
       "      <td>79</td>\n",
       "      <td>2392</td>\n",
       "      <td>527</td>\n",
       "      <td>2563</td>\n",
       "      <td>FUT 22 ICONS</td>\n",
       "      <td>Icons</td>\n",
       "      <td>Brazil</td>\n",
       "      <td>173</td>\n",
       "      <td>70</td>\n",
       "      <td>Unique</td>\n",
       "    </tr>\n",
       "    <tr>\n",
       "      <th>1</th>\n",
       "      <td>Lionel Messi</td>\n",
       "      <td>99</td>\n",
       "      <td>CF</td>\n",
       "      <td>ShapeShifters</td>\n",
       "      <td>2200000.0</td>\n",
       "      <td>5</td>\n",
       "      <td>4</td>\n",
       "      <td>H \\ L</td>\n",
       "      <td>95</td>\n",
       "      <td>98</td>\n",
       "      <td>...</td>\n",
       "      <td>78</td>\n",
       "      <td>4336</td>\n",
       "      <td>511</td>\n",
       "      <td>2485</td>\n",
       "      <td>Paris SG</td>\n",
       "      <td>Ligue 1</td>\n",
       "      <td>Argentina</td>\n",
       "      <td>170</td>\n",
       "      <td>72</td>\n",
       "      <td>Messi</td>\n",
       "    </tr>\n",
       "    <tr>\n",
       "      <th>2</th>\n",
       "      <td>Cristiano Ronaldo</td>\n",
       "      <td>99</td>\n",
       "      <td>LW</td>\n",
       "      <td>ShapeShifters</td>\n",
       "      <td>2350000.0</td>\n",
       "      <td>5</td>\n",
       "      <td>4</td>\n",
       "      <td>H \\ L</td>\n",
       "      <td>99</td>\n",
       "      <td>99</td>\n",
       "      <td>...</td>\n",
       "      <td>92</td>\n",
       "      <td>4752</td>\n",
       "      <td>527</td>\n",
       "      <td>2549</td>\n",
       "      <td>Manchester Utd</td>\n",
       "      <td>Premier League</td>\n",
       "      <td>Portugal</td>\n",
       "      <td>187</td>\n",
       "      <td>83</td>\n",
       "      <td>CR7</td>\n",
       "    </tr>\n",
       "    <tr>\n",
       "      <th>3</th>\n",
       "      <td>Raphaël Varane</td>\n",
       "      <td>99</td>\n",
       "      <td>CB</td>\n",
       "      <td>Premium Futties SBC</td>\n",
       "      <td>818750.0</td>\n",
       "      <td>2</td>\n",
       "      <td>3</td>\n",
       "      <td>M \\ H</td>\n",
       "      <td>96</td>\n",
       "      <td>61</td>\n",
       "      <td>...</td>\n",
       "      <td>98</td>\n",
       "      <td>2208</td>\n",
       "      <td>517</td>\n",
       "      <td>2378</td>\n",
       "      <td>Manchester Utd</td>\n",
       "      <td>Premier League</td>\n",
       "      <td>France</td>\n",
       "      <td>191</td>\n",
       "      <td>81</td>\n",
       "      <td>Unique</td>\n",
       "    </tr>\n",
       "    <tr>\n",
       "      <th>4</th>\n",
       "      <td>Ousmane Dembélé</td>\n",
       "      <td>99</td>\n",
       "      <td>RW</td>\n",
       "      <td>Premium Futties</td>\n",
       "      <td>1160000.0</td>\n",
       "      <td>5</td>\n",
       "      <td>5</td>\n",
       "      <td>H \\ M</td>\n",
       "      <td>99</td>\n",
       "      <td>96</td>\n",
       "      <td>...</td>\n",
       "      <td>79</td>\n",
       "      <td>1861</td>\n",
       "      <td>516</td>\n",
       "      <td>2488</td>\n",
       "      <td>FC Barcelona</td>\n",
       "      <td>LaLiga Santander</td>\n",
       "      <td>France</td>\n",
       "      <td>178</td>\n",
       "      <td>67</td>\n",
       "      <td>Unique</td>\n",
       "    </tr>\n",
       "  </tbody>\n",
       "</table>\n",
       "<p>5 rows × 23 columns</p>\n",
       "</div>"
      ],
      "text/plain": [
       "                Name  Ratings Position              Version         PS  SKI  \\\n",
       "0               Pelé       99      CAM         Icon Moments  3800000.0    5   \n",
       "1       Lionel Messi       99       CF        ShapeShifters  2200000.0    5   \n",
       "2  Cristiano Ronaldo       99       LW        ShapeShifters  2350000.0    5   \n",
       "3     Raphaël Varane       99       CB  Premium Futties SBC   818750.0    2   \n",
       "4    Ousmane Dembélé       99       RW      Premium Futties  1160000.0    5   \n",
       "\n",
       "   WF     WR  PAC  SHO  ...  PHY  Popularity   BS   IGS            Club  \\\n",
       "0   4  H \\ M   96   97  ...   79        2392  527  2563    FUT 22 ICONS   \n",
       "1   4  H \\ L   95   98  ...   78        4336  511  2485        Paris SG   \n",
       "2   4  H \\ L   99   99  ...   92        4752  527  2549  Manchester Utd   \n",
       "3   3  M \\ H   96   61  ...   98        2208  517  2378  Manchester Utd   \n",
       "4   5  H \\ M   99   96  ...   79        1861  516  2488    FC Barcelona   \n",
       "\n",
       "             League    Country Height(cm) Weight(kg) Body Type  \n",
       "0             Icons     Brazil        173         70    Unique  \n",
       "1           Ligue 1  Argentina        170         72     Messi  \n",
       "2    Premier League   Portugal        187         83       CR7  \n",
       "3    Premier League     France        191         81    Unique  \n",
       "4  LaLiga Santander     France        178         67    Unique  \n",
       "\n",
       "[5 rows x 23 columns]"
      ]
     },
     "execution_count": 67,
     "metadata": {},
     "output_type": "execute_result"
    }
   ],
   "source": [
    "dat.head()"
   ]
  },
  {
   "cell_type": "code",
   "execution_count": 68,
   "metadata": {},
   "outputs": [],
   "source": [
    "dat = pd.get_dummies(dat, columns=['Position', 'WR', 'Body Type'])\n"
   ]
  },
  {
   "cell_type": "code",
   "execution_count": 69,
   "metadata": {},
   "outputs": [],
   "source": [
    "X = dat.drop([\"Name\", \"Ratings\", \"Version\", \"League\", \"Club\", \"Country\"], axis='columns')\n",
    "y = dat.Ratings"
   ]
  },
  {
   "cell_type": "code",
   "execution_count": 70,
   "metadata": {},
   "outputs": [
    {
     "data": {
      "text/plain": [
       "PS                               0\n",
       "SKI                              0\n",
       "WF                               0\n",
       "PAC                              0\n",
       "SHO                              0\n",
       "                                ..\n",
       "Body Type_ Short & Lean          0\n",
       "Body Type_ Short & Lean-         0\n",
       "Body Type_ Short and Balanced    0\n",
       "Body Type_ Stocky                0\n",
       "Body Type_ Unique                0\n",
       "Length: 63, dtype: int64"
      ]
     },
     "execution_count": 70,
     "metadata": {},
     "output_type": "execute_result"
    }
   ],
   "source": [
    "X.isna().sum()"
   ]
  },
  {
   "cell_type": "code",
   "execution_count": 71,
   "metadata": {},
   "outputs": [
    {
     "data": {
      "text/html": [
       "<div>\n",
       "<style scoped>\n",
       "    .dataframe tbody tr th:only-of-type {\n",
       "        vertical-align: middle;\n",
       "    }\n",
       "\n",
       "    .dataframe tbody tr th {\n",
       "        vertical-align: top;\n",
       "    }\n",
       "\n",
       "    .dataframe thead th {\n",
       "        text-align: right;\n",
       "    }\n",
       "</style>\n",
       "<table border=\"1\" class=\"dataframe\">\n",
       "  <thead>\n",
       "    <tr style=\"text-align: right;\">\n",
       "      <th></th>\n",
       "      <th>PS</th>\n",
       "      <th>SKI</th>\n",
       "      <th>WF</th>\n",
       "      <th>PAC</th>\n",
       "      <th>SHO</th>\n",
       "      <th>PAS</th>\n",
       "      <th>DRI</th>\n",
       "      <th>DEF</th>\n",
       "      <th>PHY</th>\n",
       "      <th>Popularity</th>\n",
       "      <th>...</th>\n",
       "      <th>Body Type_ Neymar</th>\n",
       "      <th>Body Type_ R9</th>\n",
       "      <th>Body Type_ Ronaldinho</th>\n",
       "      <th>Body Type_ Salah</th>\n",
       "      <th>Body Type_ Shaqiri</th>\n",
       "      <th>Body Type_ Short &amp; Lean</th>\n",
       "      <th>Body Type_ Short &amp; Lean-</th>\n",
       "      <th>Body Type_ Short and Balanced</th>\n",
       "      <th>Body Type_ Stocky</th>\n",
       "      <th>Body Type_ Unique</th>\n",
       "    </tr>\n",
       "  </thead>\n",
       "  <tbody>\n",
       "    <tr>\n",
       "      <th>0</th>\n",
       "      <td>3800000.0</td>\n",
       "      <td>5</td>\n",
       "      <td>4</td>\n",
       "      <td>96</td>\n",
       "      <td>97</td>\n",
       "      <td>96</td>\n",
       "      <td>97</td>\n",
       "      <td>62</td>\n",
       "      <td>79</td>\n",
       "      <td>2392</td>\n",
       "      <td>...</td>\n",
       "      <td>0</td>\n",
       "      <td>0</td>\n",
       "      <td>0</td>\n",
       "      <td>0</td>\n",
       "      <td>0</td>\n",
       "      <td>0</td>\n",
       "      <td>0</td>\n",
       "      <td>0</td>\n",
       "      <td>0</td>\n",
       "      <td>1</td>\n",
       "    </tr>\n",
       "    <tr>\n",
       "      <th>1</th>\n",
       "      <td>2200000.0</td>\n",
       "      <td>5</td>\n",
       "      <td>4</td>\n",
       "      <td>95</td>\n",
       "      <td>98</td>\n",
       "      <td>99</td>\n",
       "      <td>99</td>\n",
       "      <td>42</td>\n",
       "      <td>78</td>\n",
       "      <td>4336</td>\n",
       "      <td>...</td>\n",
       "      <td>0</td>\n",
       "      <td>0</td>\n",
       "      <td>0</td>\n",
       "      <td>0</td>\n",
       "      <td>0</td>\n",
       "      <td>0</td>\n",
       "      <td>0</td>\n",
       "      <td>0</td>\n",
       "      <td>0</td>\n",
       "      <td>0</td>\n",
       "    </tr>\n",
       "    <tr>\n",
       "      <th>2</th>\n",
       "      <td>2350000.0</td>\n",
       "      <td>5</td>\n",
       "      <td>4</td>\n",
       "      <td>99</td>\n",
       "      <td>99</td>\n",
       "      <td>90</td>\n",
       "      <td>97</td>\n",
       "      <td>50</td>\n",
       "      <td>92</td>\n",
       "      <td>4752</td>\n",
       "      <td>...</td>\n",
       "      <td>0</td>\n",
       "      <td>0</td>\n",
       "      <td>0</td>\n",
       "      <td>0</td>\n",
       "      <td>0</td>\n",
       "      <td>0</td>\n",
       "      <td>0</td>\n",
       "      <td>0</td>\n",
       "      <td>0</td>\n",
       "      <td>0</td>\n",
       "    </tr>\n",
       "    <tr>\n",
       "      <th>3</th>\n",
       "      <td>818750.0</td>\n",
       "      <td>2</td>\n",
       "      <td>3</td>\n",
       "      <td>96</td>\n",
       "      <td>61</td>\n",
       "      <td>80</td>\n",
       "      <td>83</td>\n",
       "      <td>99</td>\n",
       "      <td>98</td>\n",
       "      <td>2208</td>\n",
       "      <td>...</td>\n",
       "      <td>0</td>\n",
       "      <td>0</td>\n",
       "      <td>0</td>\n",
       "      <td>0</td>\n",
       "      <td>0</td>\n",
       "      <td>0</td>\n",
       "      <td>0</td>\n",
       "      <td>0</td>\n",
       "      <td>0</td>\n",
       "      <td>1</td>\n",
       "    </tr>\n",
       "    <tr>\n",
       "      <th>4</th>\n",
       "      <td>1160000.0</td>\n",
       "      <td>5</td>\n",
       "      <td>5</td>\n",
       "      <td>99</td>\n",
       "      <td>96</td>\n",
       "      <td>94</td>\n",
       "      <td>99</td>\n",
       "      <td>49</td>\n",
       "      <td>79</td>\n",
       "      <td>1861</td>\n",
       "      <td>...</td>\n",
       "      <td>0</td>\n",
       "      <td>0</td>\n",
       "      <td>0</td>\n",
       "      <td>0</td>\n",
       "      <td>0</td>\n",
       "      <td>0</td>\n",
       "      <td>0</td>\n",
       "      <td>0</td>\n",
       "      <td>0</td>\n",
       "      <td>1</td>\n",
       "    </tr>\n",
       "  </tbody>\n",
       "</table>\n",
       "<p>5 rows × 63 columns</p>\n",
       "</div>"
      ],
      "text/plain": [
       "          PS  SKI  WF  PAC  SHO  PAS  DRI  DEF  PHY  Popularity  ...  \\\n",
       "0  3800000.0    5   4   96   97   96   97   62   79        2392  ...   \n",
       "1  2200000.0    5   4   95   98   99   99   42   78        4336  ...   \n",
       "2  2350000.0    5   4   99   99   90   97   50   92        4752  ...   \n",
       "3   818750.0    2   3   96   61   80   83   99   98        2208  ...   \n",
       "4  1160000.0    5   5   99   96   94   99   49   79        1861  ...   \n",
       "\n",
       "   Body Type_ Neymar  Body Type_ R9  Body Type_ Ronaldinho  Body Type_ Salah  \\\n",
       "0                  0              0                      0                 0   \n",
       "1                  0              0                      0                 0   \n",
       "2                  0              0                      0                 0   \n",
       "3                  0              0                      0                 0   \n",
       "4                  0              0                      0                 0   \n",
       "\n",
       "   Body Type_ Shaqiri  Body Type_ Short & Lean  Body Type_ Short & Lean-  \\\n",
       "0                   0                        0                         0   \n",
       "1                   0                        0                         0   \n",
       "2                   0                        0                         0   \n",
       "3                   0                        0                         0   \n",
       "4                   0                        0                         0   \n",
       "\n",
       "   Body Type_ Short and Balanced  Body Type_ Stocky  Body Type_ Unique  \n",
       "0                              0                  0                  1  \n",
       "1                              0                  0                  0  \n",
       "2                              0                  0                  0  \n",
       "3                              0                  0                  1  \n",
       "4                              0                  0                  1  \n",
       "\n",
       "[5 rows x 63 columns]"
      ]
     },
     "execution_count": 71,
     "metadata": {},
     "output_type": "execute_result"
    }
   ],
   "source": [
    "X.head()"
   ]
  },
  {
   "cell_type": "code",
   "execution_count": 72,
   "metadata": {},
   "outputs": [
    {
     "name": "stdout",
     "output_type": "stream",
     "text": [
      "<class 'pandas.core.frame.DataFrame'>\n",
      "Int64Index: 12697 entries, 0 to 17077\n",
      "Data columns (total 63 columns):\n",
      " #   Column                         Non-Null Count  Dtype  \n",
      "---  ------                         --------------  -----  \n",
      " 0   PS                             12697 non-null  float64\n",
      " 1   SKI                            12697 non-null  int64  \n",
      " 2   WF                             12697 non-null  int64  \n",
      " 3   PAC                            12697 non-null  int64  \n",
      " 4   SHO                            12697 non-null  int64  \n",
      " 5   PAS                            12697 non-null  int64  \n",
      " 6   DRI                            12697 non-null  int64  \n",
      " 7   DEF                            12697 non-null  int64  \n",
      " 8   PHY                            12697 non-null  int64  \n",
      " 9   Popularity                     12697 non-null  int64  \n",
      " 10  BS                             12697 non-null  int64  \n",
      " 11  IGS                            12697 non-null  int64  \n",
      " 12  Height(cm)                     12697 non-null  int64  \n",
      " 13  Weight(kg)                     12697 non-null  int64  \n",
      " 14  Position_CAM                   12697 non-null  uint8  \n",
      " 15  Position_CB                    12697 non-null  uint8  \n",
      " 16  Position_CDM                   12697 non-null  uint8  \n",
      " 17  Position_CF                    12697 non-null  uint8  \n",
      " 18  Position_CM                    12697 non-null  uint8  \n",
      " 19  Position_GK                    12697 non-null  uint8  \n",
      " 20  Position_LB                    12697 non-null  uint8  \n",
      " 21  Position_LF                    12697 non-null  uint8  \n",
      " 22  Position_LM                    12697 non-null  uint8  \n",
      " 23  Position_LW                    12697 non-null  uint8  \n",
      " 24  Position_LWB                   12697 non-null  uint8  \n",
      " 25  Position_RB                    12697 non-null  uint8  \n",
      " 26  Position_RF                    12697 non-null  uint8  \n",
      " 27  Position_RM                    12697 non-null  uint8  \n",
      " 28  Position_RW                    12697 non-null  uint8  \n",
      " 29  Position_RWB                   12697 non-null  uint8  \n",
      " 30  Position_ST                    12697 non-null  uint8  \n",
      " 31  WR_H \\ H                       12697 non-null  uint8  \n",
      " 32  WR_H \\ L                       12697 non-null  uint8  \n",
      " 33  WR_H \\ M                       12697 non-null  uint8  \n",
      " 34  WR_L \\ H                       12697 non-null  uint8  \n",
      " 35  WR_L \\ L                       12697 non-null  uint8  \n",
      " 36  WR_L \\ M                       12697 non-null  uint8  \n",
      " 37  WR_M \\ H                       12697 non-null  uint8  \n",
      " 38  WR_M \\ L                       12697 non-null  uint8  \n",
      " 39  WR_M \\ M                       12697 non-null  uint8  \n",
      " 40  Body Type_ Akinfenwa           12697 non-null  uint8  \n",
      " 41  Body Type_ Average             12697 non-null  uint8  \n",
      " 42  Body Type_ Base Maradona       12697 non-null  uint8  \n",
      " 43  Body Type_ Base R9             12697 non-null  uint8  \n",
      " 44  Body Type_ CR7                 12697 non-null  uint8  \n",
      " 45  Body Type_ Courtois            12697 non-null  uint8  \n",
      " 46  Body Type_ High & Average      12697 non-null  uint8  \n",
      " 47  Body Type_ High & Average+     12697 non-null  uint8  \n",
      " 48  Body Type_ High & Lean         12697 non-null  uint8  \n",
      " 49  Body Type_ High & Stocky       12697 non-null  uint8  \n",
      " 50  Body Type_ Lean                12697 non-null  uint8  \n",
      " 51  Body Type_ Maradona            12697 non-null  uint8  \n",
      " 52  Body Type_ Messi               12697 non-null  uint8  \n",
      " 53  Body Type_ Neymar              12697 non-null  uint8  \n",
      " 54  Body Type_ R9                  12697 non-null  uint8  \n",
      " 55  Body Type_ Ronaldinho          12697 non-null  uint8  \n",
      " 56  Body Type_ Salah               12697 non-null  uint8  \n",
      " 57  Body Type_ Shaqiri             12697 non-null  uint8  \n",
      " 58  Body Type_ Short & Lean        12697 non-null  uint8  \n",
      " 59  Body Type_ Short & Lean-       12697 non-null  uint8  \n",
      " 60  Body Type_ Short and Balanced  12697 non-null  uint8  \n",
      " 61  Body Type_ Stocky              12697 non-null  uint8  \n",
      " 62  Body Type_ Unique              12697 non-null  uint8  \n",
      "dtypes: float64(1), int64(13), uint8(49)\n",
      "memory usage: 2.0 MB\n"
     ]
    }
   ],
   "source": [
    "X.info()"
   ]
  },
  {
   "cell_type": "code",
   "execution_count": 73,
   "metadata": {},
   "outputs": [
    {
     "data": {
      "text/plain": [
       "0    99\n",
       "1    99\n",
       "2    99\n",
       "3    99\n",
       "4    99\n",
       "Name: Ratings, dtype: int64"
      ]
     },
     "execution_count": 73,
     "metadata": {},
     "output_type": "execute_result"
    }
   ],
   "source": [
    "y.head()"
   ]
  },
  {
   "cell_type": "code",
   "execution_count": 74,
   "metadata": {},
   "outputs": [],
   "source": [
    "X_train, X_test, y_train, y_test = train_test_split(X, y, test_size=0.3, random_state=42)"
   ]
  },
  {
   "cell_type": "code",
   "execution_count": 75,
   "metadata": {},
   "outputs": [],
   "source": [
    "X_train = StandardScaler().fit_transform(X_train)\n",
    "X_test = StandardScaler().fit_transform(X_test)"
   ]
  },
  {
   "cell_type": "code",
   "execution_count": 76,
   "metadata": {},
   "outputs": [],
   "source": [
    "#linear regression, lasso, elasticnet\n",
    "LR = LinearRegression()\n",
    "Elastic = ElasticNet()\n",
    "RandomRegressor =RandomForestRegressor(n_)"
   ]
  },
  {
   "cell_type": "code",
   "execution_count": 91,
   "metadata": {},
   "outputs": [],
   "source": [
    "def train_model(model, X, y, params=None):\n",
    "  else:\n",
    "    grid = GridSearchCV(estimator=model, param_grid=params, cv=5, verbose=1)\n",
    "    grid.fit(X, y)\n",
    "    print(grid.best_params_)"
   ]
  },
  {
   "cell_type": "code",
   "execution_count": 116,
   "metadata": {},
   "outputs": [
    {
     "data": {
      "text/plain": [
       "array([ 2.51118700e-01,  4.55395146e-02,  5.93051771e-02,  3.60042806e-01,\n",
       "        1.04610034e+00,  1.97879836e+00,  4.62233523e+00,  1.70709259e+00,\n",
       "        1.45659707e+00,  8.29162186e-02, -2.93914645e-01, -1.88127452e-01,\n",
       "        3.26915457e-01,  1.35779080e-01, -2.71894350e+12, -4.15507525e+12,\n",
       "       -3.12962798e+12, -1.30968146e+12, -3.44405721e+12, -3.12962798e+12,\n",
       "       -2.77090391e+12, -3.69951570e+11, -2.51867355e+12, -1.67612425e+12,\n",
       "       -1.08645746e+12, -2.73858219e+12, -2.02710697e+11, -2.46470500e+12,\n",
       "       -1.76686369e+12, -1.11692394e+12, -3.95109657e+12, -1.31492160e+11,\n",
       "       -9.62568549e+10, -1.93084379e+11, -7.07151160e+10, -1.92086909e+10,\n",
       "       -6.50327197e+10, -1.45774587e+11, -9.46102164e+10, -2.22905696e+11,\n",
       "        3.70680696e+12, -1.30106914e+12, -2.91065657e+10, -8.12970961e+11,\n",
       "       -7.12761728e+10, -7.12761728e+10, -1.14371232e+12, -8.09579509e+11,\n",
       "       -5.82033040e+10, -3.60356288e+11, -1.07685422e+12, -2.91065657e+10,\n",
       "       -5.82033040e+10, -5.82033040e+10, -2.91065657e+10, -4.11605838e+10,\n",
       "       -8.72803817e+10, -2.91065657e+10, -3.70414369e+11, -5.04266819e+11,\n",
       "       -2.11278081e+11, -4.89969782e+11, -4.97177462e+11])"
      ]
     },
     "execution_count": 116,
     "metadata": {},
     "output_type": "execute_result"
    }
   ],
   "source": [
    "LR.fit(X_train, y_train)\n",
    "pred = LR.predict(X_test)\n",
    "\n",
    "LR.coef_"
   ]
  },
  {
   "cell_type": "code",
   "execution_count": 102,
   "metadata": {},
   "outputs": [
    {
     "data": {
      "text/html": [
       "<style>#sk-container-id-1 {color: black;background-color: white;}#sk-container-id-1 pre{padding: 0;}#sk-container-id-1 div.sk-toggleable {background-color: white;}#sk-container-id-1 label.sk-toggleable__label {cursor: pointer;display: block;width: 100%;margin-bottom: 0;padding: 0.3em;box-sizing: border-box;text-align: center;}#sk-container-id-1 label.sk-toggleable__label-arrow:before {content: \"▸\";float: left;margin-right: 0.25em;color: #696969;}#sk-container-id-1 label.sk-toggleable__label-arrow:hover:before {color: black;}#sk-container-id-1 div.sk-estimator:hover label.sk-toggleable__label-arrow:before {color: black;}#sk-container-id-1 div.sk-toggleable__content {max-height: 0;max-width: 0;overflow: hidden;text-align: left;background-color: #f0f8ff;}#sk-container-id-1 div.sk-toggleable__content pre {margin: 0.2em;color: black;border-radius: 0.25em;background-color: #f0f8ff;}#sk-container-id-1 input.sk-toggleable__control:checked~div.sk-toggleable__content {max-height: 200px;max-width: 100%;overflow: auto;}#sk-container-id-1 input.sk-toggleable__control:checked~label.sk-toggleable__label-arrow:before {content: \"▾\";}#sk-container-id-1 div.sk-estimator input.sk-toggleable__control:checked~label.sk-toggleable__label {background-color: #d4ebff;}#sk-container-id-1 div.sk-label input.sk-toggleable__control:checked~label.sk-toggleable__label {background-color: #d4ebff;}#sk-container-id-1 input.sk-hidden--visually {border: 0;clip: rect(1px 1px 1px 1px);clip: rect(1px, 1px, 1px, 1px);height: 1px;margin: -1px;overflow: hidden;padding: 0;position: absolute;width: 1px;}#sk-container-id-1 div.sk-estimator {font-family: monospace;background-color: #f0f8ff;border: 1px dotted black;border-radius: 0.25em;box-sizing: border-box;margin-bottom: 0.5em;}#sk-container-id-1 div.sk-estimator:hover {background-color: #d4ebff;}#sk-container-id-1 div.sk-parallel-item::after {content: \"\";width: 100%;border-bottom: 1px solid gray;flex-grow: 1;}#sk-container-id-1 div.sk-label:hover label.sk-toggleable__label {background-color: #d4ebff;}#sk-container-id-1 div.sk-serial::before {content: \"\";position: absolute;border-left: 1px solid gray;box-sizing: border-box;top: 0;bottom: 0;left: 50%;z-index: 0;}#sk-container-id-1 div.sk-serial {display: flex;flex-direction: column;align-items: center;background-color: white;padding-right: 0.2em;padding-left: 0.2em;position: relative;}#sk-container-id-1 div.sk-item {position: relative;z-index: 1;}#sk-container-id-1 div.sk-parallel {display: flex;align-items: stretch;justify-content: center;background-color: white;position: relative;}#sk-container-id-1 div.sk-item::before, #sk-container-id-1 div.sk-parallel-item::before {content: \"\";position: absolute;border-left: 1px solid gray;box-sizing: border-box;top: 0;bottom: 0;left: 50%;z-index: -1;}#sk-container-id-1 div.sk-parallel-item {display: flex;flex-direction: column;z-index: 1;position: relative;background-color: white;}#sk-container-id-1 div.sk-parallel-item:first-child::after {align-self: flex-end;width: 50%;}#sk-container-id-1 div.sk-parallel-item:last-child::after {align-self: flex-start;width: 50%;}#sk-container-id-1 div.sk-parallel-item:only-child::after {width: 0;}#sk-container-id-1 div.sk-dashed-wrapped {border: 1px dashed gray;margin: 0 0.4em 0.5em 0.4em;box-sizing: border-box;padding-bottom: 0.4em;background-color: white;}#sk-container-id-1 div.sk-label label {font-family: monospace;font-weight: bold;display: inline-block;line-height: 1.2em;}#sk-container-id-1 div.sk-label-container {text-align: center;}#sk-container-id-1 div.sk-container {/* jupyter's `normalize.less` sets `[hidden] { display: none; }` but bootstrap.min.css set `[hidden] { display: none !important; }` so we also need the `!important` here to be able to override the default hidden behavior on the sphinx rendered scikit-learn.org. See: https://github.com/scikit-learn/scikit-learn/issues/21755 */display: inline-block !important;position: relative;}#sk-container-id-1 div.sk-text-repr-fallback {display: none;}</style><div id=\"sk-container-id-1\" class=\"sk-top-container\"><div class=\"sk-text-repr-fallback\"><pre>ElasticNet()</pre><b>In a Jupyter environment, please rerun this cell to show the HTML representation or trust the notebook. <br />On GitHub, the HTML representation is unable to render, please try loading this page with nbviewer.org.</b></div><div class=\"sk-container\" hidden><div class=\"sk-item\"><div class=\"sk-estimator sk-toggleable\"><input class=\"sk-toggleable__control sk-hidden--visually\" id=\"sk-estimator-id-1\" type=\"checkbox\" checked><label for=\"sk-estimator-id-1\" class=\"sk-toggleable__label sk-toggleable__label-arrow\">ElasticNet</label><div class=\"sk-toggleable__content\"><pre>ElasticNet()</pre></div></div></div></div></div>"
      ],
      "text/plain": [
       "ElasticNet()"
      ]
     },
     "execution_count": 102,
     "metadata": {},
     "output_type": "execute_result"
    }
   ],
   "source": [
    "Elastic.fit(X_train, y_train)\n"
   ]
  },
  {
   "cell_type": "code",
   "execution_count": 106,
   "metadata": {},
   "outputs": [
    {
     "data": {
      "text/plain": [
       "(0.8081984568634588, 12.136460676640908)"
      ]
     },
     "execution_count": 106,
     "metadata": {},
     "output_type": "execute_result"
    }
   ],
   "source": [
    "pred = Elastic.predict(X_test)\n",
    "r2_score(y_test, pred)"
   ]
  },
  {
   "cell_type": "code",
   "execution_count": 131,
   "metadata": {},
   "outputs": [],
   "source": [
    "vec = SVR(kernel='rbf', gamma='auto')\n"
   ]
  },
  {
   "cell_type": "code",
   "execution_count": 132,
   "metadata": {},
   "outputs": [
    {
     "data": {
      "text/plain": [
       "0.9212274185764302"
      ]
     },
     "execution_count": 132,
     "metadata": {},
     "output_type": "execute_result"
    }
   ],
   "source": [
    "vec.fit(X_train, y_train)\n",
    "pred = vec.predict(X_test)\n",
    "r2_score(y_test, pred)"
   ]
  },
  {
   "cell_type": "code",
   "execution_count": 123,
   "metadata": {},
   "outputs": [],
   "source": [
    "gr = GradientBoostingRegressor(random_state=0, n_estimators=100)"
   ]
  },
  {
   "cell_type": "code",
   "execution_count": 124,
   "metadata": {},
   "outputs": [],
   "source": [
    "gr.fit(X_train, y_train)\n",
    "pred = gr.predict(X_test)"
   ]
  },
  {
   "cell_type": "code",
   "execution_count": 125,
   "metadata": {},
   "outputs": [
    {
     "data": {
      "text/plain": [
       "0.968630114529112"
      ]
     },
     "execution_count": 125,
     "metadata": {},
     "output_type": "execute_result"
    }
   ],
   "source": [
    "r2_score(y_test, pred)"
   ]
  },
  {
   "cell_type": "code",
   "execution_count": 122,
   "metadata": {},
   "outputs": [],
   "source": [
    "from sklearn.ensemble import AdaBoostRegressor"
   ]
  },
  {
   "cell_type": "code",
   "execution_count": 126,
   "metadata": {},
   "outputs": [
    {
     "data": {
      "text/plain": [
       "0.918704042849206"
      ]
     },
     "execution_count": 126,
     "metadata": {},
     "output_type": "execute_result"
    }
   ],
   "source": [
    "ada = AdaBoostRegressor()\n",
    "ada.fit(X_train, y_train)\n",
    "pred = ada.predict(X_test)\n",
    "r2_score(y_test, pred)"
   ]
  },
  {
   "cell_type": "code",
   "execution_count": 135,
   "metadata": {},
   "outputs": [],
   "source": [
    "from sklearn.ensemble import BaggingRegressor\n",
    "reg = BaggingRegressor(base_estimator=SVR())"
   ]
  },
  {
   "cell_type": "code",
   "execution_count": 136,
   "metadata": {},
   "outputs": [
    {
     "data": {
      "text/plain": [
       "0.9204766723065789"
      ]
     },
     "execution_count": 136,
     "metadata": {},
     "output_type": "execute_result"
    }
   ],
   "source": [
    "reg.fit(X_train, y_train)\n",
    "pred = reg.predict(X_test)\n",
    "r2_score(y_test, pred)"
   ]
  },
  {
   "cell_type": "code",
   "execution_count": 145,
   "metadata": {},
   "outputs": [
    {
     "data": {
      "text/plain": [
       "0.9204766723065789"
      ]
     },
     "execution_count": 145,
     "metadata": {},
     "output_type": "execute_result"
    }
   ],
   "source": [
    "reg.score(X_test, y_test)"
   ]
  },
  {
   "cell_type": "code",
   "execution_count": 138,
   "metadata": {},
   "outputs": [
    {
     "data": {
      "text/plain": [
       "11031    68\n",
       "2187     83\n",
       "5903     73\n",
       "9366     69\n",
       "2774     80\n",
       "         ..\n",
       "9479     69\n",
       "10350    68\n",
       "2161     83\n",
       "6273     72\n",
       "9826     69\n",
       "Name: Ratings, Length: 3810, dtype: int64"
      ]
     },
     "execution_count": 138,
     "metadata": {},
     "output_type": "execute_result"
    }
   ],
   "source": [
    "y_test"
   ]
  },
  {
   "cell_type": "code",
   "execution_count": null,
   "metadata": {},
   "outputs": [],
   "source": []
  }
 ],
 "metadata": {
  "kernelspec": {
   "display_name": "Python 3",
   "language": "python",
   "name": "python3"
  },
  "language_info": {
   "codemirror_mode": {
    "name": "ipython",
    "version": 3
   },
   "file_extension": ".py",
   "mimetype": "text/x-python",
   "name": "python",
   "nbconvert_exporter": "python",
   "pygments_lexer": "ipython3",
   "version": "3.10.6 (tags/v3.10.6:9c7b4bd, Aug  1 2022, 21:53:49) [MSC v.1932 64 bit (AMD64)]"
  },
  "orig_nbformat": 4,
  "vscode": {
   "interpreter": {
    "hash": "50ea11dcd3e9e0963874f56ef7b249840116669554ddb7c7dbcd2f6cfa989272"
   }
  }
 },
 "nbformat": 4,
 "nbformat_minor": 2
}
